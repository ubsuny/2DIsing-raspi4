{
 "cells": [
  {
   "cell_type": "markdown",
   "id": "distinct-james",
   "metadata": {},
   "source": [
    "# 2D CNN Notebook"
   ]
  },
  {
   "cell_type": "markdown",
   "id": "hungry-realtor",
   "metadata": {},
   "source": [
    "This notebook implements a NN whose input is a jet image generatd in the accompanying notebook."
   ]
  },
  {
   "cell_type": "code",
   "execution_count": 1,
   "id": "occupational-drill",
   "metadata": {},
   "outputs": [],
   "source": [
    "import pandas as pd\n",
    "import tensorflow.compat.v1 as tf\n",
    "from tensorflow import keras\n",
    "from tensorflow.keras import layers\n",
    "from tensorflow.keras import models\n",
    "import tensorflow.keras.utils\n",
    "\n",
    "from datetime import datetime\n",
    "from packaging import version\n",
    "\n",
    "# Helper libraries\n",
    "import numpy as np\n",
    "import matplotlib.pyplot as plt\n",
    "from matplotlib.colors import LogNorm\n",
    "import math\n",
    "import time\n",
    "import h5py\n",
    "import sklearn\n",
    "from sklearn.utils import shuffle\n",
    "import pickle\n",
    "import os"
   ]
  },
  {
   "cell_type": "code",
   "execution_count": 2,
   "id": "third-andorra",
   "metadata": {},
   "outputs": [
    {
     "name": "stdout",
     "output_type": "stream",
     "text": [
      "WARNING:tensorflow:From /home/cebarros/Tensorflow/Tensorflow_venv/lib/python3.8/site-packages/tensorflow/python/compat/v2_compat.py:96: disable_resource_variables (from tensorflow.python.ops.variable_scope) is deprecated and will be removed in a future version.\n",
      "Instructions for updating:\n",
      "non-resource variables are not supported in the long term\n"
     ]
    }
   ],
   "source": [
    "tf.disable_v2_behavior()"
   ]
  },
  {
   "cell_type": "code",
   "execution_count": 3,
   "id": "printable-legislature",
   "metadata": {},
   "outputs": [],
   "source": [
    "if not os.path.isdir(\"model\"):\n",
    "    os.mkdir(\"model\")"
   ]
  },
  {
   "cell_type": "code",
   "execution_count": 4,
   "id": "equivalent-ranch",
   "metadata": {},
   "outputs": [
    {
     "data": {
      "text/plain": [
       "<contextlib._GeneratorContextManager at 0x7f5b49d87e50>"
      ]
     },
     "execution_count": 4,
     "metadata": {},
     "output_type": "execute_result"
    }
   ],
   "source": [
    "params = {'legend.fontsize': 'x-large',\n",
    "         'axes.labelsize': 'x-large',\n",
    "         'axes.titlesize':'x-large',\n",
    "         'xtick.labelsize':'x-large',\n",
    "         'ytick.labelsize':'x-large',\n",
    "         'figure.facecolor':'white'\n",
    "         }\n",
    "plt.rc('font', family='serif')\n",
    "plt.rcParams.update(params)\n",
    "plt.style.context('default')"
   ]
  },
  {
   "cell_type": "code",
   "execution_count": 5,
   "id": "tribal-galaxy",
   "metadata": {},
   "outputs": [
    {
     "data": {
      "text/plain": [
       "['jetImages', 'thetalab', 'radiilab', 'zlab', 'labels']"
      ]
     },
     "execution_count": 5,
     "metadata": {},
     "output_type": "execute_result"
    }
   ],
   "source": [
    "grid = 16\n",
    "data_train = np.load('data/jetImagesTrain.npz')\n",
    "data_test = np.load('data/jetImagesTest.npz')\n",
    "feat_all = [key for key in data_train.keys()]\n",
    "feat_all.remove('labels')\n",
    "data_train.files"
   ]
  },
  {
   "cell_type": "markdown",
   "id": "hispanic-cancellation",
   "metadata": {},
   "source": [
    "The CNN can now be built according to the specified architecture:"
   ]
  },
  {
   "cell_type": "code",
   "execution_count": 6,
   "id": "boolean-exhibition",
   "metadata": {},
   "outputs": [],
   "source": [
    "def build_model():\n",
    "    input1 = layers.Input(shape = (grid, grid, 1), name = 'input')\n",
    "    x = layers.Conv2D(32, (5, 5), activation='relu', name = \"conv1\", padding = 'same')(input1)\n",
    "    x = layers.Conv2D(32, (3, 3), activation='relu', name = 'conv2', padding = 'same')(x)\n",
    "    x = layers.Conv2D(32, (2, 2), activation='relu', name = 'conv3', padding = 'same')(x)\n",
    "    x = layers.Dropout(0.2)(x)\n",
    "    x = layers.MaxPool2D((2, 2), name = 'maxpool1')(x)\n",
    "    x = layers.Flatten(name = 'flatten')(x)\n",
    "    x = layers.Dense(64, activation='relu', name = 'dense1')(x)\n",
    "    output = layers.Dense(2, activation='softmax', name = 'softmax')(x)\n",
    "    model = models.Model(inputs=input1, outputs=output)\n",
    "    opt=keras.optimizers.Adam(lr=0.001,beta_1=0.9, beta_2=0.999, amsgrad = False)\n",
    "    model.compile(loss='binary_crossentropy',\n",
    "                optimizer=opt,\n",
    "                metrics=['mean_squared_error', 'binary_crossentropy', 'accuracy'])\n",
    "    return model"
   ]
  },
  {
   "cell_type": "code",
   "execution_count": 7,
   "id": "particular-lincoln",
   "metadata": {},
   "outputs": [],
   "source": [
    "CNN = build_model()"
   ]
  },
  {
   "cell_type": "code",
   "execution_count": 8,
   "id": "corporate-acting",
   "metadata": {},
   "outputs": [
    {
     "name": "stderr",
     "output_type": "stream",
     "text": [
      "/home/cebarros/Tensorflow/Tensorflow_venv/lib/python3.8/site-packages/tensorflow/python/keras/engine/training.py:2325: UserWarning: `Model.state_updates` will be removed in a future version. This property should not be used in TensorFlow 2.0, as `updates` are applied automatically.\n",
      "  warnings.warn('`Model.state_updates` will be removed in a future version. '\n"
     ]
    }
   ],
   "source": [
    "X_batch = data_train['jetImages'][:10]\n",
    "Y_batch = data_train['labels'][:10]\n",
    "example_result = CNN.predict(x = X_batch)\n",
    "results = CNN.evaluate(x = X_batch, y = Y_batch )"
   ]
  },
  {
   "cell_type": "markdown",
   "id": "dimensional-manner",
   "metadata": {},
   "source": [
    "Finally, we train and test our network:"
   ]
  },
  {
   "cell_type": "code",
   "execution_count": 9,
   "id": "dress-trail",
   "metadata": {},
   "outputs": [
    {
     "name": "stdout",
     "output_type": "stream",
     "text": [
      "WARNING:tensorflow:`period` argument is deprecated. Please use `save_freq` to specify the frequency in number of batches seen.\n",
      "Train on 32000 samples, validate on 8000 samples\n",
      "Epoch 1/100\n",
      "32000/32000 [==============================] - ETA: 0s - loss: 0.0582 - mean_squared_error: 0.0159 - binary_crossentropy: 0.0582 - acc: 0.9829\n",
      "Epoch 00001: val_loss improved from inf to 0.02762, saving model to model/CNN2D_1mil_1.h5\n",
      "32000/32000 [==============================] - 13s 392us/sample - loss: 0.0582 - mean_squared_error: 0.0159 - binary_crossentropy: 0.0582 - acc: 0.9829 - val_loss: 0.0276 - val_mean_squared_error: 0.0062 - val_binary_crossentropy: 0.0276 - val_acc: 0.9923\n",
      "Epoch 2/100\n",
      "31872/32000 [============================>.] - ETA: 0s - loss: 0.0276 - mean_squared_error: 0.0077 - binary_crossentropy: 0.0276 - acc: 0.9909\n",
      "Epoch 00002: val_loss did not improve from 0.02762\n",
      "32000/32000 [==============================] - 11s 359us/sample - loss: 0.0277 - mean_squared_error: 0.0077 - binary_crossentropy: 0.0277 - acc: 0.9909 - val_loss: 0.0360 - val_mean_squared_error: 0.0084 - val_binary_crossentropy: 0.0360 - val_acc: 0.9894\n",
      "Epoch 3/100\n",
      "32000/32000 [==============================] - ETA: 0s - loss: 0.0234 - mean_squared_error: 0.0066 - binary_crossentropy: 0.0234 - acc: 0.9923\n",
      "Epoch 00003: val_loss improved from 0.02762 to 0.02106, saving model to model/CNN2D_1mil_1.h5\n",
      "32000/32000 [==============================] - 12s 374us/sample - loss: 0.0234 - mean_squared_error: 0.0066 - binary_crossentropy: 0.0234 - acc: 0.9923 - val_loss: 0.0211 - val_mean_squared_error: 0.0057 - val_binary_crossentropy: 0.0211 - val_acc: 0.9936\n",
      "Epoch 4/100\n",
      "31968/32000 [============================>.] - ETA: 0s - loss: 0.0189 - mean_squared_error: 0.0052 - binary_crossentropy: 0.0189 - acc: 0.9938\n",
      "Epoch 00004: val_loss improved from 0.02106 to 0.01591, saving model to model/CNN2D_1mil_1.h5\n",
      "32000/32000 [==============================] - 12s 382us/sample - loss: 0.0190 - mean_squared_error: 0.0052 - binary_crossentropy: 0.0190 - acc: 0.9938 - val_loss: 0.0159 - val_mean_squared_error: 0.0039 - val_binary_crossentropy: 0.0159 - val_acc: 0.9949\n",
      "Epoch 5/100\n",
      "31968/32000 [============================>.] - ETA: 0s - loss: 0.0167 - mean_squared_error: 0.0044 - binary_crossentropy: 0.0167 - acc: 0.9947\n",
      "Epoch 00005: val_loss did not improve from 0.01591\n",
      "32000/32000 [==============================] - 12s 382us/sample - loss: 0.0167 - mean_squared_error: 0.0044 - binary_crossentropy: 0.0167 - acc: 0.9948 - val_loss: 0.0166 - val_mean_squared_error: 0.0042 - val_binary_crossentropy: 0.0166 - val_acc: 0.9954\n",
      "Epoch 6/100\n",
      "31936/32000 [============================>.] - ETA: 0s - loss: 0.0128 - mean_squared_error: 0.0037 - binary_crossentropy: 0.0128 - acc: 0.9953\n",
      "Epoch 00006: val_loss improved from 0.01591 to 0.01543, saving model to model/CNN2D_1mil_1.h5\n",
      "32000/32000 [==============================] - 11s 351us/sample - loss: 0.0128 - mean_squared_error: 0.0037 - binary_crossentropy: 0.0128 - acc: 0.9953 - val_loss: 0.0154 - val_mean_squared_error: 0.0045 - val_binary_crossentropy: 0.0154 - val_acc: 0.9948\n",
      "Epoch 7/100\n",
      "31904/32000 [============================>.] - ETA: 0s - loss: 0.0136 - mean_squared_error: 0.0038 - binary_crossentropy: 0.0136 - acc: 0.9956\n",
      "Epoch 00007: val_loss improved from 0.01543 to 0.01288, saving model to model/CNN2D_1mil_1.h5\n",
      "32000/32000 [==============================] - 11s 350us/sample - loss: 0.0137 - mean_squared_error: 0.0038 - binary_crossentropy: 0.0137 - acc: 0.9956 - val_loss: 0.0129 - val_mean_squared_error: 0.0034 - val_binary_crossentropy: 0.0129 - val_acc: 0.9958\n",
      "Epoch 8/100\n",
      "31904/32000 [============================>.] - ETA: 0s - loss: 0.0103 - mean_squared_error: 0.0028 - binary_crossentropy: 0.0103 - acc: 0.9966\n",
      "Epoch 00008: val_loss improved from 0.01288 to 0.00975, saving model to model/CNN2D_1mil_1.h5\n",
      "32000/32000 [==============================] - 11s 345us/sample - loss: 0.0103 - mean_squared_error: 0.0028 - binary_crossentropy: 0.0103 - acc: 0.9966 - val_loss: 0.0097 - val_mean_squared_error: 0.0025 - val_binary_crossentropy: 0.0097 - val_acc: 0.9971\n",
      "Epoch 9/100\n",
      "31936/32000 [============================>.] - ETA: 0s - loss: 0.0103 - mean_squared_error: 0.0031 - binary_crossentropy: 0.0103 - acc: 0.9962\n",
      "Epoch 00009: val_loss did not improve from 0.00975\n",
      "32000/32000 [==============================] - 12s 360us/sample - loss: 0.0103 - mean_squared_error: 0.0031 - binary_crossentropy: 0.0103 - acc: 0.9962 - val_loss: 0.0139 - val_mean_squared_error: 0.0037 - val_binary_crossentropy: 0.0139 - val_acc: 0.9958\n",
      "Epoch 10/100\n",
      "32000/32000 [==============================] - ETA: 0s - loss: 0.0084 - mean_squared_error: 0.0025 - binary_crossentropy: 0.0084 - acc: 0.9970\n",
      "Epoch 00010: val_loss improved from 0.00975 to 0.00868, saving model to model/CNN2D_1mil_1.h5\n",
      "32000/32000 [==============================] - 12s 363us/sample - loss: 0.0084 - mean_squared_error: 0.0025 - binary_crossentropy: 0.0084 - acc: 0.9970 - val_loss: 0.0087 - val_mean_squared_error: 0.0025 - val_binary_crossentropy: 0.0087 - val_acc: 0.9970\n",
      "Epoch 11/100\n",
      "32000/32000 [==============================] - ETA: 0s - loss: 0.0075 - mean_squared_error: 0.0022 - binary_crossentropy: 0.0075 - acc: 0.9973\n",
      "Epoch 00011: val_loss did not improve from 0.00868\n",
      "32000/32000 [==============================] - 11s 356us/sample - loss: 0.0075 - mean_squared_error: 0.0022 - binary_crossentropy: 0.0075 - acc: 0.9973 - val_loss: 0.0094 - val_mean_squared_error: 0.0025 - val_binary_crossentropy: 0.0094 - val_acc: 0.9970\n",
      "Epoch 12/100\n",
      "31936/32000 [============================>.] - ETA: 0s - loss: 0.0076 - mean_squared_error: 0.0022 - binary_crossentropy: 0.0076 - acc: 0.9972\n",
      "Epoch 00012: val_loss improved from 0.00868 to 0.00759, saving model to model/CNN2D_1mil_1.h5\n",
      "32000/32000 [==============================] - 12s 367us/sample - loss: 0.0076 - mean_squared_error: 0.0022 - binary_crossentropy: 0.0076 - acc: 0.9972 - val_loss: 0.0076 - val_mean_squared_error: 0.0017 - val_binary_crossentropy: 0.0076 - val_acc: 0.9980\n",
      "Epoch 13/100\n",
      "31904/32000 [============================>.] - ETA: 0s - loss: 0.0083 - mean_squared_error: 0.0026 - binary_crossentropy: 0.0083 - acc: 0.9968\n",
      "Epoch 00013: val_loss improved from 0.00759 to 0.00759, saving model to model/CNN2D_1mil_1.h5\n",
      "32000/32000 [==============================] - 12s 364us/sample - loss: 0.0083 - mean_squared_error: 0.0025 - binary_crossentropy: 0.0083 - acc: 0.9968 - val_loss: 0.0076 - val_mean_squared_error: 0.0019 - val_binary_crossentropy: 0.0076 - val_acc: 0.9974\n",
      "Epoch 14/100\n",
      "31872/32000 [============================>.] - ETA: 0s - loss: 0.0059 - mean_squared_error: 0.0017 - binary_crossentropy: 0.0059 - acc: 0.9979\n",
      "Epoch 00014: val_loss did not improve from 0.00759\n",
      "32000/32000 [==============================] - 11s 349us/sample - loss: 0.0058 - mean_squared_error: 0.0017 - binary_crossentropy: 0.0058 - acc: 0.9979 - val_loss: 0.0099 - val_mean_squared_error: 0.0024 - val_binary_crossentropy: 0.0099 - val_acc: 0.9970\n",
      "Epoch 15/100\n",
      "31936/32000 [============================>.] - ETA: 0s - loss: 0.0057 - mean_squared_error: 0.0015 - binary_crossentropy: 0.0057 - acc: 0.9983\n",
      "Epoch 00015: val_loss did not improve from 0.00759\n",
      "32000/32000 [==============================] - 11s 347us/sample - loss: 0.0057 - mean_squared_error: 0.0015 - binary_crossentropy: 0.0057 - acc: 0.9983 - val_loss: 0.0091 - val_mean_squared_error: 0.0024 - val_binary_crossentropy: 0.0091 - val_acc: 0.9970\n",
      "Epoch 16/100\n",
      "31936/32000 [============================>.] - ETA: 0s - loss: 0.0052 - mean_squared_error: 0.0017 - binary_crossentropy: 0.0052 - acc: 0.9979\n",
      "Epoch 00016: val_loss did not improve from 0.00759\n",
      "32000/32000 [==============================] - 11s 348us/sample - loss: 0.0052 - mean_squared_error: 0.0017 - binary_crossentropy: 0.0052 - acc: 0.9979 - val_loss: 0.0156 - val_mean_squared_error: 0.0037 - val_binary_crossentropy: 0.0156 - val_acc: 0.9959\n",
      "Epoch 17/100\n",
      "31968/32000 [============================>.] - ETA: 0s - loss: 0.0061 - mean_squared_error: 0.0018 - binary_crossentropy: 0.0061 - acc: 0.9978\n",
      "Epoch 00017: val_loss did not improve from 0.00759\n",
      "32000/32000 [==============================] - 11s 347us/sample - loss: 0.0061 - mean_squared_error: 0.0018 - binary_crossentropy: 0.0061 - acc: 0.9978 - val_loss: 0.0108 - val_mean_squared_error: 0.0028 - val_binary_crossentropy: 0.0108 - val_acc: 0.9964\n"
     ]
    },
    {
     "name": "stdout",
     "output_type": "stream",
     "text": [
      "Epoch 18/100\n",
      "31936/32000 [============================>.] - ETA: 0s - loss: 0.0044 - mean_squared_error: 0.0013 - binary_crossentropy: 0.0044 - acc: 0.9983\n",
      "Epoch 00018: val_loss did not improve from 0.00759\n",
      "32000/32000 [==============================] - 12s 368us/sample - loss: 0.0043 - mean_squared_error: 0.0013 - binary_crossentropy: 0.0043 - acc: 0.9983 - val_loss: 0.0090 - val_mean_squared_error: 0.0022 - val_binary_crossentropy: 0.0090 - val_acc: 0.9971\n",
      "Epoch 19/100\n",
      "31872/32000 [============================>.] - ETA: 0s - loss: 0.0047 - mean_squared_error: 0.0015 - binary_crossentropy: 0.0047 - acc: 0.9981\n",
      "Epoch 00019: val_loss improved from 0.00759 to 0.00709, saving model to model/CNN2D_1mil_1.h5\n",
      "32000/32000 [==============================] - 11s 359us/sample - loss: 0.0047 - mean_squared_error: 0.0015 - binary_crossentropy: 0.0047 - acc: 0.9982 - val_loss: 0.0071 - val_mean_squared_error: 0.0018 - val_binary_crossentropy: 0.0071 - val_acc: 0.9979\n",
      "Epoch 20/100\n",
      "31872/32000 [============================>.] - ETA: 0s - loss: 0.0043 - mean_squared_error: 0.0013 - binary_crossentropy: 0.0043 - acc: 0.9984\n",
      "Epoch 00020: val_loss did not improve from 0.00709\n",
      "32000/32000 [==============================] - 11s 347us/sample - loss: 0.0043 - mean_squared_error: 0.0013 - binary_crossentropy: 0.0043 - acc: 0.9984 - val_loss: 0.0079 - val_mean_squared_error: 0.0018 - val_binary_crossentropy: 0.0079 - val_acc: 0.9979\n",
      "Epoch 21/100\n",
      "31872/32000 [============================>.] - ETA: 0s - loss: 0.0039 - mean_squared_error: 0.0010 - binary_crossentropy: 0.0039 - acc: 0.9988\n",
      "Epoch 00021: val_loss did not improve from 0.00709\n",
      "32000/32000 [==============================] - 11s 349us/sample - loss: 0.0038 - mean_squared_error: 0.0010 - binary_crossentropy: 0.0038 - acc: 0.9988 - val_loss: 0.0088 - val_mean_squared_error: 0.0019 - val_binary_crossentropy: 0.0088 - val_acc: 0.9976\n",
      "Epoch 22/100\n",
      "31872/32000 [============================>.] - ETA: 0s - loss: 0.0027 - mean_squared_error: 8.1070e-04 - binary_crossentropy: 0.0027 - acc: 0.9989\n",
      "Epoch 00022: val_loss did not improve from 0.00709\n",
      "32000/32000 [==============================] - 11s 345us/sample - loss: 0.0028 - mean_squared_error: 8.3311e-04 - binary_crossentropy: 0.0028 - acc: 0.9988 - val_loss: 0.0171 - val_mean_squared_error: 0.0040 - val_binary_crossentropy: 0.0171 - val_acc: 0.9954\n",
      "Epoch 23/100\n",
      "31904/32000 [============================>.] - ETA: 0s - loss: 0.0047 - mean_squared_error: 0.0016 - binary_crossentropy: 0.0047 - acc: 0.9982\n",
      "Epoch 00023: val_loss did not improve from 0.00709\n",
      "32000/32000 [==============================] - 11s 345us/sample - loss: 0.0047 - mean_squared_error: 0.0016 - binary_crossentropy: 0.0047 - acc: 0.9981 - val_loss: 0.0114 - val_mean_squared_error: 0.0031 - val_binary_crossentropy: 0.0114 - val_acc: 0.9960\n",
      "Epoch 24/100\n",
      "31968/32000 [============================>.] - ETA: 0s - loss: 0.0033 - mean_squared_error: 0.0011 - binary_crossentropy: 0.0033 - acc: 0.9987\n",
      "Epoch 00024: val_loss did not improve from 0.00709\n",
      "32000/32000 [==============================] - 12s 368us/sample - loss: 0.0033 - mean_squared_error: 0.0011 - binary_crossentropy: 0.0033 - acc: 0.9987 - val_loss: 0.0084 - val_mean_squared_error: 0.0022 - val_binary_crossentropy: 0.0084 - val_acc: 0.9973\n",
      "Epoch 25/100\n",
      "31968/32000 [============================>.] - ETA: 0s - loss: 0.0027 - mean_squared_error: 8.2046e-04 - binary_crossentropy: 0.0027 - acc: 0.9990\n",
      "Epoch 00025: val_loss did not improve from 0.00709\n",
      "32000/32000 [==============================] - 11s 356us/sample - loss: 0.0027 - mean_squared_error: 8.1964e-04 - binary_crossentropy: 0.0027 - acc: 0.9990 - val_loss: 0.0120 - val_mean_squared_error: 0.0030 - val_binary_crossentropy: 0.0120 - val_acc: 0.9962\n",
      "Epoch 26/100\n",
      "31936/32000 [============================>.] - ETA: 0s - loss: 0.0028 - mean_squared_error: 7.4255e-04 - binary_crossentropy: 0.0028 - acc: 0.9991\n",
      "Epoch 00026: val_loss did not improve from 0.00709\n",
      "32000/32000 [==============================] - 11s 350us/sample - loss: 0.0028 - mean_squared_error: 7.4107e-04 - binary_crossentropy: 0.0028 - acc: 0.9991 - val_loss: 0.0109 - val_mean_squared_error: 0.0023 - val_binary_crossentropy: 0.0109 - val_acc: 0.9973\n",
      "Epoch 27/100\n",
      "32000/32000 [==============================] - ETA: 0s - loss: 0.0023 - mean_squared_error: 7.0213e-04 - binary_crossentropy: 0.0023 - acc: 0.9992\n",
      "Epoch 00027: val_loss did not improve from 0.00709\n",
      "32000/32000 [==============================] - 12s 369us/sample - loss: 0.0023 - mean_squared_error: 7.0213e-04 - binary_crossentropy: 0.0023 - acc: 0.9992 - val_loss: 0.0101 - val_mean_squared_error: 0.0023 - val_binary_crossentropy: 0.0101 - val_acc: 0.9970\n",
      "Epoch 28/100\n",
      "31936/32000 [============================>.] - ETA: 0s - loss: 0.0031 - mean_squared_error: 9.2366e-04 - binary_crossentropy: 0.0031 - acc: 0.9989\n",
      "Epoch 00028: val_loss did not improve from 0.00709\n",
      "32000/32000 [==============================] - 12s 370us/sample - loss: 0.0031 - mean_squared_error: 9.2181e-04 - binary_crossentropy: 0.0031 - acc: 0.9989 - val_loss: 0.0100 - val_mean_squared_error: 0.0021 - val_binary_crossentropy: 0.0100 - val_acc: 0.9979\n",
      "Epoch 29/100\n",
      "31904/32000 [============================>.] - ETA: 0s - loss: 0.0028 - mean_squared_error: 8.6957e-04 - binary_crossentropy: 0.0028 - acc: 0.9989\n",
      "Epoch 00029: val_loss did not improve from 0.00709\n",
      "32000/32000 [==============================] - 11s 348us/sample - loss: 0.0028 - mean_squared_error: 8.6801e-04 - binary_crossentropy: 0.0028 - acc: 0.9989 - val_loss: 0.0144 - val_mean_squared_error: 0.0030 - val_binary_crossentropy: 0.0144 - val_acc: 0.9966\n"
     ]
    }
   ],
   "source": [
    "checkpoint_path = \"model/CNN2D_1mil_1.h5\"\n",
    "if not os.path.exists(\"model\"):\n",
    "    os.mkdir(\"model\")\n",
    "\n",
    "model_checkpoint = keras.callbacks.ModelCheckpoint(checkpoint_path, monitor='val_loss', \n",
    "                                   verbose=1, save_best_only=True, \n",
    "                                   save_weights_only=False, mode='auto',\n",
    "                                   period=1)\n",
    "EPOCHS = 100\n",
    "early_stop = keras.callbacks.EarlyStopping(monitor='val_loss', patience=10)\n",
    "history = CNN.fit(data_train['jetImages'], data_train['labels'],\n",
    "                           epochs=EPOCHS, validation_split = 0.2, verbose = 1,\n",
    "                           callbacks=[early_stop, model_checkpoint])\n",
    "CNN.save(checkpoint_path)"
   ]
  },
  {
   "cell_type": "code",
   "execution_count": 10,
   "id": "characteristic-boards",
   "metadata": {},
   "outputs": [
    {
     "name": "stdout",
     "output_type": "stream",
     "text": [
      "WARNING:tensorflow:From /home/cebarros/Tensorflow/Tensorflow_venv/lib/python3.8/site-packages/tensorflow/python/ops/init_ops.py:97: calling GlorotUniform.__init__ (from tensorflow.python.ops.init_ops) with dtype is deprecated and will be removed in a future version.\n",
      "Instructions for updating:\n",
      "Call initializer instance with the dtype argument instead of passing it to the constructor\n",
      "WARNING:tensorflow:From /home/cebarros/Tensorflow/Tensorflow_venv/lib/python3.8/site-packages/tensorflow/python/ops/init_ops.py:97: calling Zeros.__init__ (from tensorflow.python.ops.init_ops) with dtype is deprecated and will be removed in a future version.\n",
      "Instructions for updating:\n",
      "Call initializer instance with the dtype argument instead of passing it to the constructor\n",
      "Model: \"model\"\n",
      "_________________________________________________________________\n",
      "Layer (type)                 Output Shape              Param #   \n",
      "=================================================================\n",
      "input (InputLayer)           [(None, 16, 16, 1)]       0         \n",
      "_________________________________________________________________\n",
      "conv1 (Conv2D)               (None, 16, 16, 32)        832       \n",
      "_________________________________________________________________\n",
      "conv2 (Conv2D)               (None, 16, 16, 32)        9248      \n",
      "_________________________________________________________________\n",
      "conv3 (Conv2D)               (None, 16, 16, 32)        4128      \n",
      "_________________________________________________________________\n",
      "dropout (Dropout)            (None, 16, 16, 32)        0         \n",
      "_________________________________________________________________\n",
      "maxpool1 (MaxPooling2D)      (None, 8, 8, 32)          0         \n",
      "_________________________________________________________________\n",
      "flatten (Flatten)            (None, 2048)              0         \n",
      "_________________________________________________________________\n",
      "dense1 (Dense)               (None, 64)                131136    \n",
      "_________________________________________________________________\n",
      "softmax (Dense)              (None, 2)                 130       \n",
      "=================================================================\n",
      "Total params: 145,474\n",
      "Trainable params: 145,474\n",
      "Non-trainable params: 0\n",
      "_________________________________________________________________\n",
      "[0.01763081480417374, 0.0038227162, 0.01763081, 0.99575]\n"
     ]
    }
   ],
   "source": [
    "best_model = keras.models.load_model('model/CNN2D_1mil_1.h5')\n",
    "best_model.summary()\n",
    "results = best_model.evaluate(data_test['jetImages'], data_test['labels'], verbose = 1)\n",
    "print(results)"
   ]
  },
  {
   "cell_type": "code",
   "execution_count": 11,
   "id": "olive-passage",
   "metadata": {},
   "outputs": [],
   "source": [
    "predict = best_model.predict(data_test['jetImages'])"
   ]
  },
  {
   "cell_type": "code",
   "execution_count": 12,
   "id": "moral-tiger",
   "metadata": {},
   "outputs": [
    {
     "data": {
      "image/png": "[encoded data removed]",
      "text/plain": [
       "<Figure size 432x288 with 1 Axes>"
      ]
     },
     "metadata": {},
     "output_type": "display_data"
    }
   ],
   "source": [
    "from sklearn.metrics import roc_curve, auc\n",
    "fpr, tpr, thresholds = roc_curve(data_test['labels'][:,1], predict[:,1])\n",
    "roc_auc = auc(fpr, tpr)\n",
    "plt.plot(fpr, tpr, lw=2, color='b', label='AUC = %.4f' % (roc_auc))\n",
    "plt.plot([0, 1], [0, 1], linestyle='--', lw=2, color='k', label='Random Chance')\n",
    "plt.xlim([0, 1.0])\n",
    "plt.ylim([0, 1.0])\n",
    "plt.xlabel('False Positive Rate')\n",
    "plt.ylabel('True Positive Rate')\n",
    "plt.title('Receiver Operating Curve')\n",
    "plt.legend(loc=\"lower right\")\n",
    "plt.show()"
   ]
  },
  {
   "cell_type": "code",
   "execution_count": 13,
   "id": "stuck-nelson",
   "metadata": {},
   "outputs": [
    {
     "data": {
      "image/png": "[encoded data removed]",
      "text/plain": [
       "<Figure size 432x288 with 1 Axes>"
      ]
     },
     "metadata": {},
     "output_type": "display_data"
    }
   ],
   "source": [
    "sig = predict[data_test['labels'][:,1]==1][:,1]\n",
    "bkg = predict[data_test['labels'][:,0]==1][:,1]\n",
    "\n",
    "bins = np.linspace(0, 1, 20)\n",
    "\n",
    "plt.hist(sig, bins, alpha=0.5, label='Signal')\n",
    "plt.hist(bkg, bins, alpha=0.5, label='Background')\n",
    "\n",
    "plt.yscale('log')\n",
    "plt.legend(loc='upper left', bbox_to_anchor=(1, 1), prop={'size': 15})\n",
    "plt.title('Prediction distribution for Model ')\n",
    "plt.xlabel('Predictions')\n",
    "plt.ylabel('Sample Count')\n",
    "plt.show()"
   ]
  },
  {
   "cell_type": "code",
   "execution_count": null,
   "id": "secondary-disability",
   "metadata": {},
   "outputs": [],
   "source": []
  }
 ],
 "metadata": {
  "kernelspec": {
   "display_name": "Python 3",
   "language": "python",
   "name": "python3"
  },
  "language_info": {
   "codemirror_mode": {
    "name": "ipython",
    "version": 3
   },
   "file_extension": ".py",
   "mimetype": "text/x-python",
   "name": "python",
   "nbconvert_exporter": "python",
   "pygments_lexer": "ipython3",
   "version": "3.7.3"
  }
 },
 "nbformat": 4,
 "nbformat_minor": 5
}
